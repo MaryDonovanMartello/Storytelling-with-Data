{
 "cells": [
  {
   "cell_type": "markdown",
   "metadata": {},
   "source": [
    "# Airline Safety Visualization Project"
   ]
  },
  {
   "cell_type": "markdown",
   "metadata": {},
   "source": [
    "# Mary Donovan Martello"
   ]
  },
  {
   "cell_type": "markdown",
   "metadata": {},
   "source": [
    "## The goal of this project was to effectively tell a story with data to different types of audiences. The topic was to examine airline safety data, determine how safe current airline travel is, and tell the story to an internal data science audience, internal executive audience, and to an external audience via a blog, an infographic, and a presentation.  This notebook includes the code for the blog to an external audiance."
   ]
  },
  {
   "cell_type": "markdown",
   "metadata": {},
   "source": [
    "# Task 2:  Blog"
   ]
  },
  {
   "cell_type": "code",
   "execution_count": null,
   "metadata": {},
   "outputs": [],
   "source": []
  },
  {
   "cell_type": "code",
   "execution_count": 1,
   "metadata": {},
   "outputs": [],
   "source": [
    "# load libraries\n",
    "import numpy as np\n",
    "import pandas as pd\n",
    "import matplotlib.pyplot as plt\n",
    "import seaborn as sn\n",
    "import squarify    \n",
    "from collections import defaultdict\n",
    "import matplotlib.ticker as ticker\n",
    "import seaborn as sns\n",
    "import numpy as np\n",
    "import plotly.express as px\n",
    "from matplotlib.ticker import ScalarFormatter\n",
    "from matplotlib.patches import Ellipse\n",
    "from matplotlib.text import OffsetFrom\n",
    "from matplotlib.lines import Line2D\n",
    "from matplotlib.ticker import FuncFormatter\n",
    "from matplotlib.ticker import StrMethodFormatter\n",
    "\n",
    "# Plotting pretty figures and avoid blurry images\n",
    "#%config InlineBackend.figure_format = 'retina'\n",
    "# Larger scale for plots in notebooks\n",
    "#sns.set_context('talk')"
   ]
  },
  {
   "cell_type": "code",
   "execution_count": 2,
   "metadata": {},
   "outputs": [],
   "source": [
    "#import data\n",
    "bill = pd.read_excel('640Calcs.xlsx', sheet_name=5)\n",
    "depart = pd.read_excel('640Calcs.xlsx', sheet_name=7)\n",
    "airline = pd.read_excel('air_incidents_byairline.xlsx')\n",
    "airlineFatY = pd.read_excel('airline-safety_byairline.xlsx')\n",
    "usWorld = pd.read_excel('640Calcs.xlsx', sheet_name=4)\n",
    "smSourc = pd.read_excel('640Calcs.xlsx', sheet_name=8)\n",
    "smFreq = pd.read_excel('640Calcs.xlsx', sheet_name=9)\n",
    "fatal = pd.read_excel('AirlineFatalsbyYear.xlsx')\n",
    "rev = pd.read_excel('640Calcs.xlsx', sheet_name=10)\n",
    "auto2018 = pd.read_excel('640Calcs.xlsx', sheet_name=11)\n",
    "departRatio = pd.read_excel('640Calcs.xlsx', sheet_name=12)"
   ]
  },
  {
   "cell_type": "code",
   "execution_count": 10,
   "metadata": {},
   "outputs": [],
   "source": [
    "# set reParams\n",
    "plt.rcParams.update({\n",
    "    #\"figure.facecolor\":  (1.0, 0.0, 0.0, 0.0),  # red   with alpha = 100%\n",
    "    #\"axes.facecolor\":    (0.0, 1.0, 0.0, 0.0),  # green with alpha = 100%\n",
    "    #\"savefig.facecolor\": (0.0, 0.0, 1.0, 0.0),  # blue  with alpha = 100%\n",
    "    'axes.spines.right': False,\n",
    "    'axes.spines.top': False,\n",
    "    'axes.labelcolor': 'grey',\n",
    "    #'axes.titlecolor': 'grey',\n",
    "    'text.color': 'grey',\n",
    "    'xtick.color': 'grey',\n",
    "    'ytick.color': 'grey',\n",
    "    'axes.edgecolor': 'grey',\n",
    "    })"
   ]
  },
  {
   "cell_type": "code",
   "execution_count": 9,
   "metadata": {},
   "outputs": [
    {
     "data": {
      "text/html": [
       "<div>\n",
       "<style scoped>\n",
       "    .dataframe tbody tr th:only-of-type {\n",
       "        vertical-align: middle;\n",
       "    }\n",
       "\n",
       "    .dataframe tbody tr th {\n",
       "        vertical-align: top;\n",
       "    }\n",
       "\n",
       "    .dataframe thead th {\n",
       "        text-align: right;\n",
       "    }\n",
       "</style>\n",
       "<table border=\"1\" class=\"dataframe\">\n",
       "  <thead>\n",
       "    <tr style=\"text-align: right;\">\n",
       "      <th></th>\n",
       "      <th>Year</th>\n",
       "      <th>Vehicle Miles</th>\n",
       "      <th>Air Miles</th>\n",
       "    </tr>\n",
       "  </thead>\n",
       "  <tbody>\n",
       "    <tr>\n",
       "      <th>0</th>\n",
       "      <td>2000</td>\n",
       "      <td>152.693848</td>\n",
       "      <td>12.847213</td>\n",
       "    </tr>\n",
       "    <tr>\n",
       "      <th>1</th>\n",
       "      <td>2001</td>\n",
       "      <td>150.915594</td>\n",
       "      <td>81.479168</td>\n",
       "    </tr>\n",
       "    <tr>\n",
       "      <th>2</th>\n",
       "      <td>2002</td>\n",
       "      <td>150.577731</td>\n",
       "      <td>0.000000</td>\n",
       "    </tr>\n",
       "    <tr>\n",
       "      <th>3</th>\n",
       "      <td>2003</td>\n",
       "      <td>148.387543</td>\n",
       "      <td>3.346909</td>\n",
       "    </tr>\n",
       "    <tr>\n",
       "      <th>4</th>\n",
       "      <td>2004</td>\n",
       "      <td>144.472175</td>\n",
       "      <td>1.771134</td>\n",
       "    </tr>\n",
       "  </tbody>\n",
       "</table>\n",
       "</div>"
      ],
      "text/plain": [
       "   Year  Vehicle Miles  Air Miles\n",
       "0  2000     152.693848  12.847213\n",
       "1  2001     150.915594  81.479168\n",
       "2  2002     150.577731   0.000000\n",
       "3  2003     148.387543   3.346909\n",
       "4  2004     144.472175   1.771134"
      ]
     },
     "execution_count": 9,
     "metadata": {},
     "output_type": "execute_result"
    }
   ],
   "source": [
    "bill.head()"
   ]
  },
  {
   "cell_type": "code",
   "execution_count": null,
   "metadata": {},
   "outputs": [],
   "source": []
  },
  {
   "cell_type": "markdown",
   "metadata": {},
   "source": [
    "# Auto Fatality Rate Much Higher than Air Fatality Rate"
   ]
  },
  {
   "cell_type": "code",
   "execution_count": 55,
   "metadata": {},
   "outputs": [
    {
     "data": {
      "image/png": "[encoded data removed]",
      "text/plain": [
       "<Figure size 432x288 with 1 Axes>"
      ]
     },
     "metadata": {
      "needs_background": "dark"
     },
     "output_type": "display_data"
    }
   ],
   "source": [
    "# fatalities per miles traveled\n",
    "fig, ax = plt.subplots()\n",
    "ax.text(0.2, 0.2, 'Air Fatalities', transform=ax.transAxes, color='blue', fontsize=14, fontweight='bold')\n",
    "ax.text(0.5, 0.85, 'Auto Fatalities', transform=ax.transAxes, color='grey', fontsize=14, fontweight='bold')\n",
    "ax.text(0.2, 0.5, 'Air fatalities are always much lower than auto fatalties on the same scale', transform=ax.transAxes, \n",
    "        color='navy', fontsize=12, fontweight='bold')\n",
    "ax.text(0.5, 0.4, 'Even with the 9/11 terrorist fatalities!', transform=ax.transAxes, color='navy', fontsize=12, fontweight='bold')\n",
    "ax.plot(bill.Year, bill['Air Miles'], marker='', color='blue', linewidth=2)\n",
    "#ax.plot(bill.Year, bill['Vehicle Miles'], marker='o', markerfacecolor='grey', markersize=12, color='grey', linewidth=4)\n",
    "markers_on = [0, 18]\n",
    "ax.plot(bill.Year, bill['Vehicle Miles'], marker='o', markerfacecolor='grey', markersize=12, markevery=markers_on, \n",
    "        color='grey', linewidth=4)\n",
    "# set details of the graph\n",
    "ax.set(xlabel='Year', ylabel='Fatalities/10 Billion Miles')\n",
    "#from matplotlib.ticker import StrMethodFormatter\n",
    "ax.get_xaxis().set_major_formatter(\n",
    "    StrMethodFormatter('{x:.0f}'))\n",
    "ax.yaxis.set_label_coords(-0.1, 0.7)\n",
    "ax.xaxis.set_label_coords(0.05, -0.12)\n",
    "ax.set_title('Fatalities per vehicle miles vs air miles', loc='left', fontsize=15)\n",
    "plt.show()"
   ]
  },
  {
   "cell_type": "code",
   "execution_count": 74,
   "metadata": {},
   "outputs": [
    {
     "data": {
      "text/html": [
       "<div>\n",
       "<style scoped>\n",
       "    .dataframe tbody tr th:only-of-type {\n",
       "        vertical-align: middle;\n",
       "    }\n",
       "\n",
       "    .dataframe tbody tr th {\n",
       "        vertical-align: top;\n",
       "    }\n",
       "\n",
       "    .dataframe thead th {\n",
       "        text-align: right;\n",
       "    }\n",
       "</style>\n",
       "<table border=\"1\" class=\"dataframe\">\n",
       "  <thead>\n",
       "    <tr style=\"text-align: right;\">\n",
       "      <th></th>\n",
       "      <th>Year</th>\n",
       "      <th>Passenger Departures in Millions</th>\n",
       "      <th>Fatalities</th>\n",
       "    </tr>\n",
       "  </thead>\n",
       "  <tbody>\n",
       "    <tr>\n",
       "      <th>0</th>\n",
       "      <td>2013</td>\n",
       "      <td>3143000</td>\n",
       "      <td>265</td>\n",
       "    </tr>\n",
       "    <tr>\n",
       "      <th>1</th>\n",
       "      <td>2014</td>\n",
       "      <td>3327000</td>\n",
       "      <td>990</td>\n",
       "    </tr>\n",
       "    <tr>\n",
       "      <th>2</th>\n",
       "      <td>2015</td>\n",
       "      <td>3561000</td>\n",
       "      <td>560</td>\n",
       "    </tr>\n",
       "    <tr>\n",
       "      <th>3</th>\n",
       "      <td>2016</td>\n",
       "      <td>3810000</td>\n",
       "      <td>325</td>\n",
       "    </tr>\n",
       "    <tr>\n",
       "      <th>4</th>\n",
       "      <td>2017</td>\n",
       "      <td>4093000</td>\n",
       "      <td>59</td>\n",
       "    </tr>\n",
       "  </tbody>\n",
       "</table>\n",
       "</div>"
      ],
      "text/plain": [
       "   Year  Passenger Departures in Millions  Fatalities\n",
       "0  2013                           3143000         265\n",
       "1  2014                           3327000         990\n",
       "2  2015                           3561000         560\n",
       "3  2016                           3810000         325\n",
       "4  2017                           4093000          59"
      ]
     },
     "execution_count": 74,
     "metadata": {},
     "output_type": "execute_result"
    }
   ],
   "source": [
    "depart.head()"
   ]
  },
  {
   "cell_type": "code",
   "execution_count": 78,
   "metadata": {},
   "outputs": [
    {
     "data": {
      "text/html": [
       "<div>\n",
       "<style scoped>\n",
       "    .dataframe tbody tr th:only-of-type {\n",
       "        vertical-align: middle;\n",
       "    }\n",
       "\n",
       "    .dataframe tbody tr th {\n",
       "        vertical-align: top;\n",
       "    }\n",
       "\n",
       "    .dataframe thead th {\n",
       "        text-align: right;\n",
       "    }\n",
       "</style>\n",
       "<table border=\"1\" class=\"dataframe\">\n",
       "  <thead>\n",
       "    <tr style=\"text-align: right;\">\n",
       "      <th></th>\n",
       "      <th>Sixties</th>\n",
       "      <th>Seventies</th>\n",
       "      <th>Eighties</th>\n",
       "      <th>Nineties</th>\n",
       "      <th>Tens</th>\n",
       "    </tr>\n",
       "  </thead>\n",
       "  <tbody>\n",
       "    <tr>\n",
       "      <th>0</th>\n",
       "      <td>350000</td>\n",
       "      <td>750000</td>\n",
       "      <td>1300000</td>\n",
       "      <td>2700000</td>\n",
       "      <td>7900000</td>\n",
       "    </tr>\n",
       "    <tr>\n",
       "      <th>1</th>\n",
       "      <td>0</td>\n",
       "      <td>0</td>\n",
       "      <td>0</td>\n",
       "      <td>0</td>\n",
       "      <td>0</td>\n",
       "    </tr>\n",
       "    <tr>\n",
       "      <th>2</th>\n",
       "      <td>0</td>\n",
       "      <td>0</td>\n",
       "      <td>0</td>\n",
       "      <td>0</td>\n",
       "      <td>0</td>\n",
       "    </tr>\n",
       "    <tr>\n",
       "      <th>3</th>\n",
       "      <td>0</td>\n",
       "      <td>0</td>\n",
       "      <td>0</td>\n",
       "      <td>0</td>\n",
       "      <td>0</td>\n",
       "    </tr>\n",
       "    <tr>\n",
       "      <th>4</th>\n",
       "      <td>0</td>\n",
       "      <td>0</td>\n",
       "      <td>0</td>\n",
       "      <td>0</td>\n",
       "      <td>0</td>\n",
       "    </tr>\n",
       "  </tbody>\n",
       "</table>\n",
       "</div>"
      ],
      "text/plain": [
       "   Sixties  Seventies  Eighties  Nineties     Tens\n",
       "0   350000     750000   1300000   2700000  7900000\n",
       "1        0          0         0         0        0\n",
       "2        0          0         0         0        0\n",
       "3        0          0         0         0        0\n",
       "4        0          0         0         0        0"
      ]
     },
     "execution_count": 78,
     "metadata": {},
     "output_type": "execute_result"
    }
   ],
   "source": [
    "departRatio.head()"
   ]
  },
  {
   "cell_type": "code",
   "execution_count": null,
   "metadata": {},
   "outputs": [],
   "source": []
  },
  {
   "cell_type": "markdown",
   "metadata": {},
   "source": [
    "### Departures without a fatality is drastically increasing"
   ]
  },
  {
   "cell_type": "code",
   "execution_count": 112,
   "metadata": {},
   "outputs": [
    {
     "data": {
      "image/png": "[encoded data removed]",
      "text/plain": [
       "<Figure size 432x288 with 1 Axes>"
      ]
     },
     "metadata": {
      "needs_background": "dark"
     },
     "output_type": "display_data"
    }
   ],
   "source": [
    "# departures without a fatality\n",
    "fig, ax = plt.subplots()\n",
    "# set x axis points\n",
    "pos = np.arange(0, 5)\n",
    "# create separate bars\n",
    "bar1 = plt.bar(pos, departRatio[\"Sixties\"], color='lightslategray')\n",
    "bar2 = plt.bar(pos+0.25, departRatio[\"Seventies\"], color='darkgray')\n",
    "bar3 = plt.bar(pos+0.5, departRatio[\"Eighties\"], color='gray')\n",
    "bar4 = plt.bar(pos+0.75, departRatio[\"Nineties\"], color='dimgray')\n",
    "bar5 = plt.bar(pos+1.0, departRatio[\"Tens\"], color='blue')\n",
    "\n",
    "\n",
    "# set details of the graph\n",
    "ax.get_yaxis().set_major_formatter(\n",
    "    FuncFormatter(lambda y, p: format(int(y), ',')))\n",
    "#plt.xticks(pos+0.25, depart['Year'], rotation='horizontal')\n",
    "plt.ylabel('Departures')\n",
    "ax.text(0.375, 0.5, 'Ratio of number of departures to 1 fatality', transform=ax.transAxes, \n",
    "        color='navy', fontsize=12, fontweight='bold')\n",
    "ax.text(0.4, 0.41, 'has IMMENSELY increased', transform=ax.transAxes, \n",
    "        color='navy', fontsize=12, fontweight='bold')\n",
    "#plt.title('Departures without a fatality')\n",
    "ax.legend((bar1, bar2, bar3, bar4, bar5), ('68-77', '78-87', '88-97', '98-07', '08-17'))\n",
    "#ax.set_xticklabels([])\n",
    "ax.yaxis.set_label_coords(-0.2, 0.9)\n",
    "ax.set_title('Departures without a fatality', loc='left', fontsize=15)\n",
    "plt.tick_params(\n",
    "    axis='x',          # changes apply to the x-axis\n",
    "    which='both',      # both major and minor ticks are affected\n",
    "    bottom=False,      # ticks along the bottom edge are off\n",
    "    top=False,         # ticks along the top edge are off\n",
    "    labelbottom=False) # labels along the bottom edge are off"
   ]
  },
  {
   "cell_type": "code",
   "execution_count": 115,
   "metadata": {},
   "outputs": [
    {
     "data": {
      "text/html": [
       "<div>\n",
       "<style scoped>\n",
       "    .dataframe tbody tr th:only-of-type {\n",
       "        vertical-align: middle;\n",
       "    }\n",
       "\n",
       "    .dataframe tbody tr th {\n",
       "        vertical-align: top;\n",
       "    }\n",
       "\n",
       "    .dataframe thead th {\n",
       "        text-align: right;\n",
       "    }\n",
       "</style>\n",
       "<table border=\"1\" class=\"dataframe\">\n",
       "  <thead>\n",
       "    <tr style=\"text-align: right;\">\n",
       "      <th></th>\n",
       "      <th>Year</th>\n",
       "      <th>Auto US</th>\n",
       "      <th>Air World</th>\n",
       "      <th>Air US</th>\n",
       "    </tr>\n",
       "  </thead>\n",
       "  <tbody>\n",
       "    <tr>\n",
       "      <th>0</th>\n",
       "      <td>2018</td>\n",
       "      <td>36560</td>\n",
       "      <td>562</td>\n",
       "      <td>1</td>\n",
       "    </tr>\n",
       "    <tr>\n",
       "      <th>1</th>\n",
       "      <td>0</td>\n",
       "      <td>0</td>\n",
       "      <td>0</td>\n",
       "      <td>0</td>\n",
       "    </tr>\n",
       "    <tr>\n",
       "      <th>2</th>\n",
       "      <td>0</td>\n",
       "      <td>0</td>\n",
       "      <td>0</td>\n",
       "      <td>0</td>\n",
       "    </tr>\n",
       "  </tbody>\n",
       "</table>\n",
       "</div>"
      ],
      "text/plain": [
       "   Year  Auto US  Air World  Air US\n",
       "0  2018    36560        562       1\n",
       "1     0        0          0       0\n",
       "2     0        0          0       0"
      ]
     },
     "execution_count": 115,
     "metadata": {},
     "output_type": "execute_result"
    }
   ],
   "source": [
    "auto2018.head()"
   ]
  },
  {
   "cell_type": "code",
   "execution_count": 114,
   "metadata": {},
   "outputs": [],
   "source": [
    "auto2018 = pd.read_excel('640Calcs.xlsx', sheet_name=11)"
   ]
  },
  {
   "cell_type": "code",
   "execution_count": null,
   "metadata": {},
   "outputs": [],
   "source": []
  },
  {
   "cell_type": "markdown",
   "metadata": {},
   "source": [
    "# Airplane crashes attract attention; auto crashes not so much"
   ]
  },
  {
   "cell_type": "code",
   "execution_count": 138,
   "metadata": {},
   "outputs": [
    {
     "data": {
      "image/png": "[encoded data removed]",
      "text/plain": [
       "<Figure size 432x288 with 1 Axes>"
      ]
     },
     "metadata": {
      "needs_background": "dark"
     },
     "output_type": "display_data"
    }
   ],
   "source": [
    "# 2018 fatalities auto vs air\n",
    "fig, ax = plt.subplots()\n",
    "\n",
    "# set x axis points\n",
    "pos = np.arange(0, 3)\n",
    "# create separate bars\n",
    "bar1 = plt.bar(pos, auto2018[\"Air US\"], color='grey')\n",
    "bar2 = plt.bar(pos+0.25, auto2018[\"Air World\"], color='white')\n",
    "bar3 = plt.bar(pos+0.5, auto2018[\"Auto US\"], color='blue')\n",
    "plt.yscale('log')\n",
    "# set details of the graph\n",
    "ax.get_yaxis().set_major_formatter(\n",
    "    FuncFormatter(lambda y, p: format(int(y), ',')))\n",
    "#plt.xticks(pos+0.25, depart['Year'], rotation='horizontal')\n",
    "plt.ylabel('Fatalities')\n",
    "\n",
    "ax.text(0.45, 0.5, 'Too many auto deaths every year to be news', transform=ax.transAxes, \n",
    "        color='navy', fontsize=12, fontweight='bold')\n",
    "ax.text(0.0525, 0.1, '1', transform=ax.transAxes, \n",
    "        color='black', fontsize=12, fontweight='bold')\n",
    "ax.text(0.42, 0.9, '36,560', transform=ax.transAxes, \n",
    "        color='black', fontsize=12, fontweight='bold')\n",
    "\n",
    "#plt.title('Departures without a fatality')\n",
    "ax.legend((bar1, bar2, bar3), ('US Air Deaths', '', 'US Auto Deaths'))\n",
    "#ax.set_xticklabels([])\n",
    "ax.yaxis.set_label_coords(-0.2, 0.9)\n",
    "ax.set_title('Fatalities by Air vs Auto in 2018', loc='left', fontsize=15)\n",
    "plt.tick_params(\n",
    "    axis='x',          # changes apply to the x-axis\n",
    "    which='both',      # both major and minor ticks are affected\n",
    "    bottom=False,      # ticks along the bottom edge are off\n",
    "    top=False,         # ticks along the top edge are off\n",
    "    labelbottom=False) # labels along the bottom edge are off"
   ]
  },
  {
   "cell_type": "code",
   "execution_count": null,
   "metadata": {},
   "outputs": [],
   "source": []
  },
  {
   "cell_type": "markdown",
   "metadata": {},
   "source": [
    "# Safety increasing as number of departures have been increasing"
   ]
  },
  {
   "cell_type": "code",
   "execution_count": 233,
   "metadata": {},
   "outputs": [
    {
     "data": {
      "image/png": "[encoded data removed]",
      "text/plain": [
       "<Figure size 504x288 with 1 Axes>"
      ]
     },
     "metadata": {
      "needs_background": "dark"
     },
     "output_type": "display_data"
    }
   ],
   "source": [
    "# departures\n",
    "# set up plot\n",
    "fig, ax = plt.subplots(figsize=(7, 4))\n",
    "ax.plot(depart['Year'], depart['Passenger Departures in Millions'])\n",
    "ax.text(0.05, 0.7, 'Number of air passengers', transform=ax.transAxes, \n",
    "        color='navy', fontsize=12, fontweight='bold')\n",
    "ax.text(0.07, 0.63, 'has been steadily increasing', transform=ax.transAxes, \n",
    "        color='navy', fontsize=12, fontweight='bold')\n",
    "# set details of the graph\n",
    "ax.get_yaxis().set_major_formatter(\n",
    "    FuncFormatter(lambda y, p: format(int(y), ',')))\n",
    "ax.yaxis.set_label_coords(-0.158, 0.9)\n",
    "ax.xaxis.set_label_coords(0.05, -0.12)\n",
    "ax.set_title('Air Passenger Departures Annually', loc='left', fontsize=15)\n",
    "ax.set(xlabel='Year', ylabel='Departures')\n",
    "#ax.grid()\n",
    "plt.show()"
   ]
  },
  {
   "cell_type": "code",
   "execution_count": 178,
   "metadata": {},
   "outputs": [
    {
     "data": {
      "text/html": [
       "<div>\n",
       "<style scoped>\n",
       "    .dataframe tbody tr th:only-of-type {\n",
       "        vertical-align: middle;\n",
       "    }\n",
       "\n",
       "    .dataframe tbody tr th {\n",
       "        vertical-align: top;\n",
       "    }\n",
       "\n",
       "    .dataframe thead th {\n",
       "        text-align: right;\n",
       "    }\n",
       "</style>\n",
       "<table border=\"1\" class=\"dataframe\">\n",
       "  <thead>\n",
       "    <tr style=\"text-align: right;\">\n",
       "      <th></th>\n",
       "      <th>Year</th>\n",
       "      <th>Accidents</th>\n",
       "      <th>Fatalities</th>\n",
       "    </tr>\n",
       "  </thead>\n",
       "  <tbody>\n",
       "    <tr>\n",
       "      <th>0</th>\n",
       "      <td>1970</td>\n",
       "      <td>47</td>\n",
       "      <td>1400</td>\n",
       "    </tr>\n",
       "    <tr>\n",
       "      <th>1</th>\n",
       "      <td>1971</td>\n",
       "      <td>38</td>\n",
       "      <td>1429</td>\n",
       "    </tr>\n",
       "    <tr>\n",
       "      <th>2</th>\n",
       "      <td>1972</td>\n",
       "      <td>56</td>\n",
       "      <td>2432</td>\n",
       "    </tr>\n",
       "    <tr>\n",
       "      <th>3</th>\n",
       "      <td>1973</td>\n",
       "      <td>50</td>\n",
       "      <td>2226</td>\n",
       "    </tr>\n",
       "    <tr>\n",
       "      <th>4</th>\n",
       "      <td>1974</td>\n",
       "      <td>46</td>\n",
       "      <td>2068</td>\n",
       "    </tr>\n",
       "  </tbody>\n",
       "</table>\n",
       "</div>"
      ],
      "text/plain": [
       "   Year  Accidents  Fatalities\n",
       "0  1970         47        1400\n",
       "1  1971         38        1429\n",
       "2  1972         56        2432\n",
       "3  1973         50        2226\n",
       "4  1974         46        2068"
      ]
     },
     "execution_count": 178,
     "metadata": {},
     "output_type": "execute_result"
    }
   ],
   "source": [
    "fatal.head()"
   ]
  },
  {
   "cell_type": "code",
   "execution_count": 179,
   "metadata": {},
   "outputs": [
    {
     "data": {
      "text/plain": [
       "(51, 3)"
      ]
     },
     "execution_count": 179,
     "metadata": {},
     "output_type": "execute_result"
    }
   ],
   "source": [
    "fatal.shape"
   ]
  },
  {
   "cell_type": "code",
   "execution_count": 180,
   "metadata": {},
   "outputs": [
    {
     "data": {
      "text/html": [
       "<div>\n",
       "<style scoped>\n",
       "    .dataframe tbody tr th:only-of-type {\n",
       "        vertical-align: middle;\n",
       "    }\n",
       "\n",
       "    .dataframe tbody tr th {\n",
       "        vertical-align: top;\n",
       "    }\n",
       "\n",
       "    .dataframe thead th {\n",
       "        text-align: right;\n",
       "    }\n",
       "</style>\n",
       "<table border=\"1\" class=\"dataframe\">\n",
       "  <thead>\n",
       "    <tr style=\"text-align: right;\">\n",
       "      <th></th>\n",
       "      <th>Year</th>\n",
       "      <th>Accidents</th>\n",
       "      <th>Fatalities</th>\n",
       "    </tr>\n",
       "  </thead>\n",
       "  <tbody>\n",
       "    <tr>\n",
       "      <th>46</th>\n",
       "      <td>2016</td>\n",
       "      <td>11</td>\n",
       "      <td>288</td>\n",
       "    </tr>\n",
       "    <tr>\n",
       "      <th>47</th>\n",
       "      <td>2017</td>\n",
       "      <td>5</td>\n",
       "      <td>31</td>\n",
       "    </tr>\n",
       "    <tr>\n",
       "      <th>48</th>\n",
       "      <td>2018</td>\n",
       "      <td>11</td>\n",
       "      <td>542</td>\n",
       "    </tr>\n",
       "    <tr>\n",
       "      <th>49</th>\n",
       "      <td>2019</td>\n",
       "      <td>14</td>\n",
       "      <td>267</td>\n",
       "    </tr>\n",
       "    <tr>\n",
       "      <th>50</th>\n",
       "      <td>2020</td>\n",
       "      <td>1</td>\n",
       "      <td>176</td>\n",
       "    </tr>\n",
       "  </tbody>\n",
       "</table>\n",
       "</div>"
      ],
      "text/plain": [
       "    Year  Accidents  Fatalities\n",
       "46  2016         11         288\n",
       "47  2017          5          31\n",
       "48  2018         11         542\n",
       "49  2019         14         267\n",
       "50  2020          1         176"
      ]
     },
     "execution_count": 180,
     "metadata": {},
     "output_type": "execute_result"
    }
   ],
   "source": [
    "fatal.tail()"
   ]
  },
  {
   "cell_type": "code",
   "execution_count": 152,
   "metadata": {},
   "outputs": [],
   "source": [
    "recent = usWorld.iloc[10:]"
   ]
  },
  {
   "cell_type": "code",
   "execution_count": 157,
   "metadata": {},
   "outputs": [
    {
     "data": {
      "text/html": [
       "<div>\n",
       "<style scoped>\n",
       "    .dataframe tbody tr th:only-of-type {\n",
       "        vertical-align: middle;\n",
       "    }\n",
       "\n",
       "    .dataframe tbody tr th {\n",
       "        vertical-align: top;\n",
       "    }\n",
       "\n",
       "    .dataframe thead th {\n",
       "        text-align: right;\n",
       "    }\n",
       "</style>\n",
       "<table border=\"1\" class=\"dataframe\">\n",
       "  <thead>\n",
       "    <tr style=\"text-align: right;\">\n",
       "      <th></th>\n",
       "      <th>Year</th>\n",
       "      <th>US Fatalities</th>\n",
       "      <th>World Fatalities</th>\n",
       "    </tr>\n",
       "  </thead>\n",
       "  <tbody>\n",
       "    <tr>\n",
       "      <th>10</th>\n",
       "      <td>2010</td>\n",
       "      <td>0</td>\n",
       "      <td>943</td>\n",
       "    </tr>\n",
       "    <tr>\n",
       "      <th>11</th>\n",
       "      <td>2011</td>\n",
       "      <td>0</td>\n",
       "      <td>525</td>\n",
       "    </tr>\n",
       "    <tr>\n",
       "      <th>12</th>\n",
       "      <td>2012</td>\n",
       "      <td>0</td>\n",
       "      <td>478</td>\n",
       "    </tr>\n",
       "    <tr>\n",
       "      <th>13</th>\n",
       "      <td>2013</td>\n",
       "      <td>0</td>\n",
       "      <td>265</td>\n",
       "    </tr>\n",
       "    <tr>\n",
       "      <th>14</th>\n",
       "      <td>2014</td>\n",
       "      <td>0</td>\n",
       "      <td>990</td>\n",
       "    </tr>\n",
       "    <tr>\n",
       "      <th>15</th>\n",
       "      <td>2015</td>\n",
       "      <td>0</td>\n",
       "      <td>560</td>\n",
       "    </tr>\n",
       "    <tr>\n",
       "      <th>16</th>\n",
       "      <td>2016</td>\n",
       "      <td>0</td>\n",
       "      <td>325</td>\n",
       "    </tr>\n",
       "    <tr>\n",
       "      <th>17</th>\n",
       "      <td>2017</td>\n",
       "      <td>0</td>\n",
       "      <td>59</td>\n",
       "    </tr>\n",
       "    <tr>\n",
       "      <th>18</th>\n",
       "      <td>2018</td>\n",
       "      <td>1</td>\n",
       "      <td>562</td>\n",
       "    </tr>\n",
       "    <tr>\n",
       "      <th>19</th>\n",
       "      <td>2019</td>\n",
       "      <td>1</td>\n",
       "      <td>287</td>\n",
       "    </tr>\n",
       "  </tbody>\n",
       "</table>\n",
       "</div>"
      ],
      "text/plain": [
       "    Year  US Fatalities  World Fatalities\n",
       "10  2010              0               943\n",
       "11  2011              0               525\n",
       "12  2012              0               478\n",
       "13  2013              0               265\n",
       "14  2014              0               990\n",
       "15  2015              0               560\n",
       "16  2016              0               325\n",
       "17  2017              0                59\n",
       "18  2018              1               562\n",
       "19  2019              1               287"
      ]
     },
     "execution_count": 157,
     "metadata": {},
     "output_type": "execute_result"
    }
   ],
   "source": [
    "recent.head(10)"
   ]
  },
  {
   "cell_type": "code",
   "execution_count": null,
   "metadata": {},
   "outputs": [],
   "source": []
  },
  {
   "cell_type": "markdown",
   "metadata": {},
   "source": [
    "### US Airline Fatalities"
   ]
  },
  {
   "cell_type": "code",
   "execution_count": 160,
   "metadata": {},
   "outputs": [
    {
     "data": {
      "image/png": "[encoded data removed]",
      "text/plain": [
       "<Figure size 720x288 with 1 Axes>"
      ]
     },
     "metadata": {
      "needs_background": "dark"
     },
     "output_type": "display_data"
    }
   ],
   "source": [
    "# US air fatalities\n",
    "# set up plot\n",
    "fig, ax = plt.subplots(figsize=(10, 4))\n",
    "ax.plot(usWorld.Year, usWorld['US Fatalities'])\n",
    "ax.text(0.2, 0.3, 'US airlines recent record is excellant', transform=ax.transAxes, color='blue', fontsize=14, fontweight='bold')\n",
    "\n",
    "# set details of the graph\n",
    "ax.yaxis.set_label_coords(-0.1, 0.7)\n",
    "ax.xaxis.set_label_coords(0.05, -0.12)\n",
    "ax.set_title('US Air Fatalities', loc='left', fontsize=15)\n",
    "ax.get_xaxis().set_major_formatter(\n",
    "    StrMethodFormatter('{x:.0f}'))\n",
    "ax.get_yaxis().set_major_formatter(\n",
    "    FuncFormatter(lambda y, p: format(int(y), ',')))\n",
    "ax.set(xlabel='Year', ylabel='Fatalities')\n",
    "\n",
    "plt.show()"
   ]
  },
  {
   "cell_type": "code",
   "execution_count": null,
   "metadata": {},
   "outputs": [],
   "source": []
  },
  {
   "cell_type": "code",
   "execution_count": 98,
   "metadata": {},
   "outputs": [
    {
     "data": {
      "text/html": [
       "<div>\n",
       "<style scoped>\n",
       "    .dataframe tbody tr th:only-of-type {\n",
       "        vertical-align: middle;\n",
       "    }\n",
       "\n",
       "    .dataframe tbody tr th {\n",
       "        vertical-align: top;\n",
       "    }\n",
       "\n",
       "    .dataframe thead th {\n",
       "        text-align: right;\n",
       "    }\n",
       "</style>\n",
       "<table border=\"1\" class=\"dataframe\">\n",
       "  <thead>\n",
       "    <tr style=\"text-align: right;\">\n",
       "      <th></th>\n",
       "      <th>airline</th>\n",
       "      <th>avail_seat_km_per_week</th>\n",
       "      <th>incidents_85_99</th>\n",
       "      <th>fatal_accidents_85_99</th>\n",
       "      <th>fatalities_85_99</th>\n",
       "      <th>incidents_00_14</th>\n",
       "      <th>fatal_accidents_00_14</th>\n",
       "      <th>fatalities_00_14</th>\n",
       "    </tr>\n",
       "  </thead>\n",
       "  <tbody>\n",
       "    <tr>\n",
       "      <th>0</th>\n",
       "      <td>aer lingus</td>\n",
       "      <td>320906734</td>\n",
       "      <td>2</td>\n",
       "      <td>0</td>\n",
       "      <td>0</td>\n",
       "      <td>0</td>\n",
       "      <td>0</td>\n",
       "      <td>0</td>\n",
       "    </tr>\n",
       "    <tr>\n",
       "      <th>1</th>\n",
       "      <td>aeroflot*</td>\n",
       "      <td>1197672318</td>\n",
       "      <td>76</td>\n",
       "      <td>14</td>\n",
       "      <td>128</td>\n",
       "      <td>6</td>\n",
       "      <td>1</td>\n",
       "      <td>88</td>\n",
       "    </tr>\n",
       "    <tr>\n",
       "      <th>2</th>\n",
       "      <td>aerolineas argentinas</td>\n",
       "      <td>385803648</td>\n",
       "      <td>6</td>\n",
       "      <td>0</td>\n",
       "      <td>0</td>\n",
       "      <td>1</td>\n",
       "      <td>0</td>\n",
       "      <td>0</td>\n",
       "    </tr>\n",
       "    <tr>\n",
       "      <th>3</th>\n",
       "      <td>aeromexico*</td>\n",
       "      <td>596871813</td>\n",
       "      <td>3</td>\n",
       "      <td>1</td>\n",
       "      <td>64</td>\n",
       "      <td>5</td>\n",
       "      <td>0</td>\n",
       "      <td>0</td>\n",
       "    </tr>\n",
       "    <tr>\n",
       "      <th>4</th>\n",
       "      <td>air canada</td>\n",
       "      <td>1865253802</td>\n",
       "      <td>2</td>\n",
       "      <td>0</td>\n",
       "      <td>0</td>\n",
       "      <td>2</td>\n",
       "      <td>0</td>\n",
       "      <td>0</td>\n",
       "    </tr>\n",
       "  </tbody>\n",
       "</table>\n",
       "</div>"
      ],
      "text/plain": [
       "                 airline  avail_seat_km_per_week  incidents_85_99  \\\n",
       "0             aer lingus               320906734                2   \n",
       "1              aeroflot*              1197672318               76   \n",
       "2  aerolineas argentinas               385803648                6   \n",
       "3            aeromexico*               596871813                3   \n",
       "4             air canada              1865253802                2   \n",
       "\n",
       "   fatal_accidents_85_99  fatalities_85_99  incidents_00_14  \\\n",
       "0                      0                 0                0   \n",
       "1                     14               128                6   \n",
       "2                      0                 0                1   \n",
       "3                      1                64                5   \n",
       "4                      0                 0                2   \n",
       "\n",
       "   fatal_accidents_00_14  fatalities_00_14  \n",
       "0                      0                 0  \n",
       "1                      1                88  \n",
       "2                      0                 0  \n",
       "3                      0                 0  \n",
       "4                      0                 0  "
      ]
     },
     "execution_count": 98,
     "metadata": {},
     "output_type": "execute_result"
    }
   ],
   "source": [
    "airline.head()"
   ]
  },
  {
   "cell_type": "code",
   "execution_count": 106,
   "metadata": {},
   "outputs": [
    {
     "data": {
      "text/plain": [
       "(24, 8)"
      ]
     },
     "execution_count": 106,
     "metadata": {},
     "output_type": "execute_result"
    }
   ],
   "source": [
    "airlineFatY.shape"
   ]
  },
  {
   "cell_type": "code",
   "execution_count": null,
   "metadata": {},
   "outputs": [],
   "source": []
  },
  {
   "cell_type": "markdown",
   "metadata": {},
   "source": [
    "### US Airlines Safer than Foreign Airlines"
   ]
  },
  {
   "cell_type": "code",
   "execution_count": 194,
   "metadata": {},
   "outputs": [
    {
     "data": {
      "text/plain": [
       "[]"
      ]
     },
     "execution_count": 194,
     "metadata": {},
     "output_type": "execute_result"
    },
    {
     "data": {
      "image/png": "[encoded data removed]",
      "text/plain": [
       "<Figure size 432x288 with 1 Axes>"
      ]
     },
     "metadata": {
      "needs_background": "dark"
     },
     "output_type": "display_data"
    }
   ],
   "source": [
    "# by airline\n",
    "fig, ax = plt.subplots()\n",
    "# set x axis points\n",
    "pos = np.arange(len(airlineFatY['airline']))\n",
    "yLab = airlineFatY['airline'].tolist()\n",
    "y = airlineFatY['airline']\n",
    "# horizontal bars\n",
    "plt.barh(pos, airlineFatY['fatalities_00_14'], width, align='center', color=['blue', 'blue', 'blue', 'blue', 'blue', 'blue',\n",
    "                                                                      'grey', 'blue', 'grey', 'blue', 'blue', 'blue',\n",
    "                                                                      'grey', 'blue', 'grey', 'blue', 'blue', 'blue', \n",
    "                                                                      'blue', 'blue', 'blue', 'blue', 'orange', 'blue'\n",
    "                                                                     ])\n",
    "ax.text(0.10, 0.2, 'Almost all FOREIGN airlines', transform=ax.transAxes, color='blue', fontsize=14, fontweight='bold')\n",
    "\n",
    "# set details of the graph\n",
    "ax.yaxis.set_label_coords(-0.03, 0.7)\n",
    "ax.xaxis.set_label_coords(0.05, -0.12)\n",
    "ax.set_title('Fatalities by Airline 2000-2014', loc='left', fontsize=15)\n",
    "width = 0.75 # width of the bars\n",
    "widthPad = 1\n",
    "#plt.yticks(pos, airlineFatY['airline'], rotation = (0), fontsize = 11, va='bottom', ha='right')\n",
    "\n",
    "plt.ylabel(\"Airlines\")\n",
    "plt.xlabel('Fatalities')\n",
    "_, xmax = plt.xlim()\n",
    "#plt.xlim(0, xmax+300)\n",
    "for i, v in enumerate(y):\n",
    "    ax.text(550, i, v, color='black', fontweight='bold',fontsize=10, ha='left', va='center')\n",
    "ax.set_yticks([])\n",
    "# plt.tick_params(\n",
    "#     axis='y',          # changes apply to the x-axis\n",
    "#     which='both',      # both major and minor ticks are affected\n",
    "#     bottom=False,      # ticks along the bottom edge are off\n",
    "#     top=False,         # ticks along the top edge are off\n",
    "#     labelbottom=False) # labels along the bottom edge are off"
   ]
  },
  {
   "cell_type": "code",
   "execution_count": 195,
   "metadata": {},
   "outputs": [
    {
     "data": {
      "text/html": [
       "<div>\n",
       "<style scoped>\n",
       "    .dataframe tbody tr th:only-of-type {\n",
       "        vertical-align: middle;\n",
       "    }\n",
       "\n",
       "    .dataframe tbody tr th {\n",
       "        vertical-align: top;\n",
       "    }\n",
       "\n",
       "    .dataframe thead th {\n",
       "        text-align: right;\n",
       "    }\n",
       "</style>\n",
       "<table border=\"1\" class=\"dataframe\">\n",
       "  <thead>\n",
       "    <tr style=\"text-align: right;\">\n",
       "      <th></th>\n",
       "      <th>Year</th>\n",
       "      <th>US Fatalities</th>\n",
       "      <th>World Fatalities</th>\n",
       "    </tr>\n",
       "  </thead>\n",
       "  <tbody>\n",
       "    <tr>\n",
       "      <th>0</th>\n",
       "      <td>2000</td>\n",
       "      <td>89</td>\n",
       "      <td>1148</td>\n",
       "    </tr>\n",
       "    <tr>\n",
       "      <th>1</th>\n",
       "      <td>2001</td>\n",
       "      <td>531</td>\n",
       "      <td>1144</td>\n",
       "    </tr>\n",
       "    <tr>\n",
       "      <th>2</th>\n",
       "      <td>2002</td>\n",
       "      <td>0</td>\n",
       "      <td>1112</td>\n",
       "    </tr>\n",
       "    <tr>\n",
       "      <th>3</th>\n",
       "      <td>2003</td>\n",
       "      <td>22</td>\n",
       "      <td>705</td>\n",
       "    </tr>\n",
       "    <tr>\n",
       "      <th>4</th>\n",
       "      <td>2004</td>\n",
       "      <td>13</td>\n",
       "      <td>552</td>\n",
       "    </tr>\n",
       "  </tbody>\n",
       "</table>\n",
       "</div>"
      ],
      "text/plain": [
       "   Year  US Fatalities  World Fatalities\n",
       "0  2000             89              1148\n",
       "1  2001            531              1144\n",
       "2  2002              0              1112\n",
       "3  2003             22               705\n",
       "4  2004             13               552"
      ]
     },
     "execution_count": 195,
     "metadata": {},
     "output_type": "execute_result"
    }
   ],
   "source": [
    "usWorld.head()"
   ]
  },
  {
   "cell_type": "code",
   "execution_count": 231,
   "metadata": {
    "scrolled": true
   },
   "outputs": [
    {
     "data": {
      "text/plain": [
       "[Text(0, 0, '2000'),\n",
       " Text(0, 0, '2000'),\n",
       " Text(0, 0, '2002'),\n",
       " Text(0, 0, '2005'),\n",
       " Text(0, 0, '2007'),\n",
       " Text(0, 0, '2010'),\n",
       " Text(0, 0, '2012'),\n",
       " Text(0, 0, '2015'),\n",
       " Text(0, 0, '2017')]"
      ]
     },
     "execution_count": 231,
     "metadata": {},
     "output_type": "execute_result"
    },
    {
     "data": {
      "image/png": "[encoded data removed]",
      "text/plain": [
       "<Figure size 720x288 with 1 Axes>"
      ]
     },
     "metadata": {
      "needs_background": "dark"
     },
     "output_type": "display_data"
    }
   ],
   "source": [
    "# foregin vs US fatalities\n",
    "fig, ax = plt.subplots(figsize=(10, 4))\n",
    "ax.text(0.05, 0.58, '9/11', transform=ax.transAxes, color='black', fontsize=14)\n",
    "ax.text(0.05, 0.5, 'Attacks', transform=ax.transAxes, color='black', fontsize=14)\n",
    "ax.text(0.65, 0.15, 'US Airlines', transform=ax.transAxes, color='blue', fontsize=14, fontweight='bold')\n",
    "ax.text(0.75, 0.8, 'Foreign Airlines', transform=ax.transAxes, color='grey', fontsize=14, fontweight='bold')\n",
    "ax.text(0.15, 0.3, 'Foreign airlines much higher', transform=ax.transAxes, color='blue', fontsize=14, fontweight='bold')\n",
    "ax.text(0.2, 0.24, 'even with 9/11', transform=ax.transAxes, color='blue', fontsize=14, fontweight='bold')\n",
    "ax.plot(usWorld.Year, usWorld['US Fatalities'], marker='', color='blue', linewidth=2)\n",
    "markers_on = [0, 5, 10, 14, 18, 19]\n",
    "ax.plot(usWorld.Year, usWorld['World Fatalities'], marker='o', markerfacecolor='grey', markersize=12, markevery=markers_on,\n",
    "        color='grey', linewidth=4)\n",
    "# set details of the graph\n",
    "ax.yaxis.set_label_coords(-0.07, 0.7)\n",
    "ax.xaxis.set_label_coords(0.05, -0.12)\n",
    "ax.set_title('Domestic Airlines vs Foreign Airlines: Fatalities', loc='left', fontsize=15)\n",
    "ax.set_ylabel(ylabel='Fatalities', fontsize=13)\n",
    "ax.set_xlabel(xlabel='Year', fontsize=12)\n",
    "ax.get_yaxis().set_major_formatter(\n",
    "    FuncFormatter(lambda y, p: format(int(y), ',')))\n",
    "tick_labels = ('2000', '2000', '2002', '2005', '2007', '2010', '2012', '2015', '2017')\n",
    "ax.set_xticklabels(tick_labels)\n",
    "#ax.set(xlabel='Year', ylabel='Fatalities')"
   ]
  },
  {
   "cell_type": "code",
   "execution_count": null,
   "metadata": {},
   "outputs": [],
   "source": []
  }
 ],
 "metadata": {
  "kernelspec": {
   "display_name": "Python 3",
   "language": "python",
   "name": "python3"
  },
  "language_info": {
   "codemirror_mode": {
    "name": "ipython",
    "version": 3
   },
   "file_extension": ".py",
   "mimetype": "text/x-python",
   "name": "python",
   "nbconvert_exporter": "python",
   "pygments_lexer": "ipython3",
   "version": "3.7.6"
  }
 },
 "nbformat": 4,
 "nbformat_minor": 4
}
